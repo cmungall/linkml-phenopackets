{
 "cells": [
  {
   "cell_type": "markdown",
   "source": [
    "# Using Pydantic with Phenopackets\n",
    "\n",
    "[Pydantic](https://docs.pydantic.dev/latest/) is a popular and fast python library for working with object models in Python.\n",
    "\n",
    "LinkML auto-generates pydantic. This repo contains pre-generated pydantic models for phenopackets\n",
    "(in addition to an alternate python representation, using classic dataclasses)."
   ],
   "metadata": {
    "collapsed": false
   },
   "id": "cb93f6ce48aaf54f"
  },
  {
   "cell_type": "code",
   "execution_count": 7,
   "outputs": [],
   "source": [
    "import json\n",
    "\n",
    "from phenopackets.pydantic.model import *"
   ],
   "metadata": {
    "collapsed": false,
    "ExecuteTime": {
     "end_time": "2024-04-25T03:12:14.340411Z",
     "start_time": "2024-04-25T03:12:14.334999Z"
    }
   },
   "id": "5ca5c54679214eb4"
  },
  {
   "cell_type": "markdown",
   "source": [
    "## Constructing a Phenopacket\n",
    "\n",
    "Let's make a very basic phenopacket with a single phenotypic feature.\n",
    "\n",
    "We'll do the feature first"
   ],
   "metadata": {
    "collapsed": false
   },
   "id": "a1c77f9489505909"
  },
  {
   "cell_type": "code",
   "execution_count": 14,
   "outputs": [],
   "source": [
    "pf1 = PhenotypicFeature(\n",
    "    type=OntologyClass(id=\"HP:0030084\", label=\"Clinodactyly\"),\n",
    "    onset=TimeElement(age=Age(iso8601duration=\"P5Y\")\n",
    "                      ))\n",
    "                      "
   ],
   "metadata": {
    "collapsed": false,
    "ExecuteTime": {
     "end_time": "2024-04-25T03:14:35.968227Z",
     "start_time": "2024-04-25T03:14:35.957311Z"
    }
   },
   "id": "2775049aeb2a0ea"
  },
  {
   "cell_type": "markdown",
   "source": [
    "then the packet"
   ],
   "metadata": {
    "collapsed": false
   },
   "id": "958236a5aa8e4dff"
  },
  {
   "cell_type": "code",
   "execution_count": 13,
   "outputs": [],
   "source": [
    "pkt = Phenopacket(\n",
    "    id=\"PP1\",\n",
    "    phenotypicFeatures=[pf1],\n",
    "    metaData=MetaData(\n",
    "        created=\"2021-01-01\",\n",
    "    )\n",
    ")"
   ],
   "metadata": {
    "collapsed": false,
    "ExecuteTime": {
     "end_time": "2024-04-25T03:13:56.958847Z",
     "start_time": "2024-04-25T03:13:56.923359Z"
    }
   },
   "id": "179aaf0db0f17684"
  },
  {
   "cell_type": "markdown",
   "source": [
    "## Exporting to JSON\n",
    "\n",
    "Pydantic gives us a simple way to export to JSON"
   ],
   "metadata": {
    "collapsed": false
   },
   "id": "d926187c863c2b93"
  },
  {
   "cell_type": "code",
   "execution_count": 17,
   "outputs": [
    {
     "name": "stdout",
     "output_type": "stream",
     "text": [
      "{\n",
      "  \"biosamples\": [],\n",
      "  \"diseases\": [],\n",
      "  \"files\": [],\n",
      "  \"id\": \"PP1\",\n",
      "  \"interpretations\": [],\n",
      "  \"measurements\": [],\n",
      "  \"medicalActions\": [],\n",
      "  \"metaData\": {\n",
      "    \"created\": \"2021-01-01\",\n",
      "    \"createdBy\": null,\n",
      "    \"externalReferences\": [],\n",
      "    \"phenopacketSchemaVersion\": null,\n",
      "    \"resources\": [],\n",
      "    \"submittedBy\": null,\n",
      "    \"updates\": []\n",
      "  },\n",
      "  \"phenotypicFeatures\": [\n",
      "    {\n",
      "      \"description\": null,\n",
      "      \"evidence\": [],\n",
      "      \"excluded\": null,\n",
      "      \"modifiers\": [],\n",
      "      \"onset\": {\n",
      "        \"age\": {\n",
      "          \"iso8601duration\": \"P5Y\"\n",
      "        },\n",
      "        \"ageRange\": null,\n",
      "        \"gestationalAge\": null,\n",
      "        \"interval\": null,\n",
      "        \"ontologyClass\": null,\n",
      "        \"timestamp\": null\n",
      "      },\n",
      "      \"resolution\": null,\n",
      "      \"severity\": null,\n",
      "      \"type\": {\n",
      "        \"id\": \"HP:0030084\",\n",
      "        \"label\": \"Clinodactyly\"\n",
      "      }\n",
      "    }\n",
      "  ],\n",
      "  \"subject\": null\n",
      "}\n"
     ]
    }
   ],
   "source": [
    "print(pkt.model_dump_json(indent=2))"
   ],
   "metadata": {
    "collapsed": false,
    "ExecuteTime": {
     "end_time": "2024-04-25T03:16:34.855477Z",
     "start_time": "2024-04-25T03:16:34.851983Z"
    }
   },
   "id": "585db32c845fd80a"
  },
  {
   "cell_type": "markdown",
   "source": [
    "## Importing from JSON\n",
    "\n",
    "Everything works in reverse too"
   ],
   "metadata": {
    "collapsed": false
   },
   "id": "d8a5c011252ca798"
  },
  {
   "cell_type": "code",
   "execution_count": 24,
   "outputs": [
    {
     "name": "stdout",
     "output_type": "stream",
     "text": [
      "Clinodactyly\n"
     ]
    }
   ],
   "source": [
    "import json\n",
    "json_str = pkt.model_dump_json(indent=2)\n",
    "pkt2 = Phenopacket(**json.loads(json_str))\n",
    "print(pkt2.phenotypicFeatures[0].type.label)"
   ],
   "metadata": {
    "collapsed": false,
    "ExecuteTime": {
     "end_time": "2024-04-25T03:21:06.703777Z",
     "start_time": "2024-04-25T03:21:06.699471Z"
    }
   },
   "id": "94926d8e70db76e2"
  },
  {
   "cell_type": "markdown",
   "source": [
    "## Validation\n",
    "\n",
    "One advantage of Pydantic is that it gives us validation *at the time of object creation*\n",
    "\n",
    "(It also provides many type hints in your IDE, which can be very helpful)\n",
    "\n",
    "Remember, all of this comes from the LinkML schema - we didn't manually author any pydantic.\n",
    "\n",
    "Let's try and make a feature without an HPO ID:"
   ],
   "metadata": {
    "collapsed": false
   },
   "id": "a621a5abfdab82f0"
  },
  {
   "cell_type": "code",
   "execution_count": 25,
   "outputs": [
    {
     "ename": "ValidationError",
     "evalue": "1 validation error for OntologyClass\nid\n  Field required [type=missing, input_value={'label': 'Clinodactyly'}, input_type=dict]\n    For further information visit https://errors.pydantic.dev/2.7/v/missing",
     "output_type": "error",
     "traceback": [
      "\u001B[0;31m---------------------------------------------------------------------------\u001B[0m",
      "\u001B[0;31mValidationError\u001B[0m                           Traceback (most recent call last)",
      "Cell \u001B[0;32mIn[25], line 2\u001B[0m\n\u001B[1;32m      1\u001B[0m pf1 \u001B[38;5;241m=\u001B[39m PhenotypicFeature(\n\u001B[0;32m----> 2\u001B[0m     \u001B[38;5;28mtype\u001B[39m\u001B[38;5;241m=\u001B[39m\u001B[43mOntologyClass\u001B[49m\u001B[43m(\u001B[49m\u001B[43mlabel\u001B[49m\u001B[38;5;241;43m=\u001B[39;49m\u001B[38;5;124;43m\"\u001B[39;49m\u001B[38;5;124;43mClinodactyly\u001B[39;49m\u001B[38;5;124;43m\"\u001B[39;49m\u001B[43m)\u001B[49m,\n\u001B[1;32m      3\u001B[0m     onset\u001B[38;5;241m=\u001B[39mTimeElement(age\u001B[38;5;241m=\u001B[39mAge(iso8601duration\u001B[38;5;241m=\u001B[39m\u001B[38;5;124m\"\u001B[39m\u001B[38;5;124mP5Y\u001B[39m\u001B[38;5;124m\"\u001B[39m)\n\u001B[1;32m      4\u001B[0m                       ))\n",
      "File \u001B[0;32m~/Library/Caches/pypoetry/virtualenvs/phenopackets-JmUWBwH2-py3.9/lib/python3.9/site-packages/pydantic/main.py:176\u001B[0m, in \u001B[0;36mBaseModel.__init__\u001B[0;34m(self, **data)\u001B[0m\n\u001B[1;32m    174\u001B[0m \u001B[38;5;66;03m# `__tracebackhide__` tells pytest and some other tools to omit this function from tracebacks\u001B[39;00m\n\u001B[1;32m    175\u001B[0m __tracebackhide__ \u001B[38;5;241m=\u001B[39m \u001B[38;5;28;01mTrue\u001B[39;00m\n\u001B[0;32m--> 176\u001B[0m \u001B[38;5;28;43mself\u001B[39;49m\u001B[38;5;241;43m.\u001B[39;49m\u001B[43m__pydantic_validator__\u001B[49m\u001B[38;5;241;43m.\u001B[39;49m\u001B[43mvalidate_python\u001B[49m\u001B[43m(\u001B[49m\u001B[43mdata\u001B[49m\u001B[43m,\u001B[49m\u001B[43m \u001B[49m\u001B[43mself_instance\u001B[49m\u001B[38;5;241;43m=\u001B[39;49m\u001B[38;5;28;43mself\u001B[39;49m\u001B[43m)\u001B[49m\n",
      "\u001B[0;31mValidationError\u001B[0m: 1 validation error for OntologyClass\nid\n  Field required [type=missing, input_value={'label': 'Clinodactyly'}, input_type=dict]\n    For further information visit https://errors.pydantic.dev/2.7/v/missing"
     ]
    }
   ],
   "source": [
    "pf1 = PhenotypicFeature(\n",
    "    type=OntologyClass(label=\"Clinodactyly\"),\n",
    "    onset=TimeElement(age=Age(iso8601duration=\"P5Y\")\n",
    "                      ))\n"
   ],
   "metadata": {
    "collapsed": false,
    "ExecuteTime": {
     "end_time": "2024-04-25T03:21:16.749179Z",
     "start_time": "2024-04-25T03:21:16.731927Z"
    }
   },
   "id": "9bef859dd7b0d43c"
  },
  {
   "cell_type": "markdown",
   "source": [
    "Perfect! This is exactly what we want."
   ],
   "metadata": {
    "collapsed": false
   },
   "id": "7d65313678a61e59"
  },
  {
   "cell_type": "code",
   "execution_count": null,
   "outputs": [],
   "source": [],
   "metadata": {
    "collapsed": false
   },
   "id": "bedd2de3af04b780"
  }
 ],
 "metadata": {
  "kernelspec": {
   "display_name": "Python 3",
   "language": "python",
   "name": "python3"
  },
  "language_info": {
   "codemirror_mode": {
    "name": "ipython",
    "version": 2
   },
   "file_extension": ".py",
   "mimetype": "text/x-python",
   "name": "python",
   "nbconvert_exporter": "python",
   "pygments_lexer": "ipython2",
   "version": "2.7.6"
  }
 },
 "nbformat": 4,
 "nbformat_minor": 5
}
