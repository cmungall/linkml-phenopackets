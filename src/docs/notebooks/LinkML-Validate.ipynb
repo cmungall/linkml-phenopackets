{
 "cells": [
  {
   "cell_type": "markdown",
   "source": [
    "# Validation using LinkML Validate\n",
    "\n",
    "We can use the generic LinkML validator against the model to check for any issues with the data.\n",
    "\n",
    "Note this does not use any phenopackets specific code."
   ],
   "metadata": {
    "collapsed": false
   },
   "id": "97f8ab5a927d0c82"
  },
  {
   "cell_type": "markdown",
   "source": [
    "## Example of successful validation\n",
    "\n",
    "We will pick one of the examples from [phenopacket-tools](https://github.com/phenopackets/phenopacket-tools) and validate it."
   ],
   "metadata": {
    "collapsed": false
   },
   "id": "8d3edb3db1ba9c08"
  },
  {
   "cell_type": "code",
   "execution_count": 2,
   "outputs": [
    {
     "name": "stdout",
     "output_type": "stream",
     "text": [
      "No issues found\n"
     ]
    }
   ],
   "source": [
    "%%bash\n",
    "linkml-validate -s ../../../src/phenopackets/schema/phenopackets.yaml  ../../../examples/bethleham-myopathy.json"
   ],
   "metadata": {
    "collapsed": false,
    "ExecuteTime": {
     "end_time": "2024-04-25T02:54:08.511664Z",
     "start_time": "2024-04-25T02:54:06.945562Z"
    }
   },
   "id": "9e6072a74a6e84ba"
  },
  {
   "cell_type": "markdown",
   "source": [
    "Not surprising!"
   ],
   "metadata": {
    "collapsed": false
   },
   "id": "a54dd54a6bc9ddb5"
  },
  {
   "cell_type": "markdown",
   "source": [
    "## Example of validation failure\n",
    "\n",
    "Let's take another example:"
   ],
   "metadata": {
    "collapsed": false
   },
   "id": "bc0f3281d0603217"
  },
  {
   "cell_type": "code",
   "execution_count": 4,
   "outputs": [
    {
     "name": "stdout",
     "output_type": "stream",
     "text": [
      "[ERROR] [../../../examples/retinoblastoma.json/0] '62280955' is not of type 'integer' in /interpretations/0/diagnosis/genomicInterpretations/0/variantInterpretation/variationDescriptor/variation/copyNumber/allele/sequenceLocation/sequenceInterval/endNumber/value\n",
      "[ERROR] [../../../examples/retinoblastoma.json/0] '26555377' is not of type 'integer' in /interpretations/0/diagnosis/genomicInterpretations/0/variantInterpretation/variationDescriptor/variation/copyNumber/allele/sequenceLocation/sequenceInterval/startNumber/value\n",
      "[ERROR] [../../../examples/retinoblastoma.json/0] '1' is not of type 'integer' in /interpretations/0/diagnosis/genomicInterpretations/0/variantInterpretation/variationDescriptor/variation/copyNumber/number/value\n",
      "[ERROR] [../../../examples/retinoblastoma.json/0] '48941648' is not of type 'integer' in /interpretations/0/diagnosis/genomicInterpretations/1/variantInterpretation/variationDescriptor/variation/allele/sequenceLocation/sequenceInterval/endNumber/value\n",
      "[ERROR] [../../../examples/retinoblastoma.json/0] '48941647' is not of type 'integer' in /interpretations/0/diagnosis/genomicInterpretations/1/variantInterpretation/variationDescriptor/variation/allele/sequenceLocation/sequenceInterval/startNumber/value\n",
      "[ERROR] [../../../examples/retinoblastoma.json/0] '48367512' is not of type 'integer' in /interpretations/0/diagnosis/genomicInterpretations/1/variantInterpretation/variationDescriptor/vcfRecord/pos\n"
     ]
    },
    {
     "ename": "CalledProcessError",
     "evalue": "Command 'b'linkml-validate -s ../../../src/phenopackets/schema/phenopackets.yaml  ../../../examples/retinoblastoma.json\\n'' returned non-zero exit status 1.",
     "output_type": "error",
     "traceback": [
      "\u001B[0;31m---------------------------------------------------------------------------\u001B[0m",
      "\u001B[0;31mCalledProcessError\u001B[0m                        Traceback (most recent call last)",
      "Cell \u001B[0;32mIn[4], line 1\u001B[0m\n\u001B[0;32m----> 1\u001B[0m \u001B[43mget_ipython\u001B[49m\u001B[43m(\u001B[49m\u001B[43m)\u001B[49m\u001B[38;5;241;43m.\u001B[39;49m\u001B[43mrun_cell_magic\u001B[49m\u001B[43m(\u001B[49m\u001B[38;5;124;43m'\u001B[39;49m\u001B[38;5;124;43mbash\u001B[39;49m\u001B[38;5;124;43m'\u001B[39;49m\u001B[43m,\u001B[49m\u001B[43m \u001B[49m\u001B[38;5;124;43m'\u001B[39;49m\u001B[38;5;124;43m'\u001B[39;49m\u001B[43m,\u001B[49m\u001B[43m \u001B[49m\u001B[38;5;124;43m'\u001B[39;49m\u001B[38;5;124;43mlinkml-validate -s ../../../src/phenopackets/schema/phenopackets.yaml  ../../../examples/retinoblastoma.json\u001B[39;49m\u001B[38;5;130;43;01m\\n\u001B[39;49;00m\u001B[38;5;124;43m'\u001B[39;49m\u001B[43m)\u001B[49m\n",
      "File \u001B[0;32m~/Library/Caches/pypoetry/virtualenvs/phenopackets-JmUWBwH2-py3.9/lib/python3.9/site-packages/IPython/core/interactiveshell.py:2517\u001B[0m, in \u001B[0;36mInteractiveShell.run_cell_magic\u001B[0;34m(self, magic_name, line, cell)\u001B[0m\n\u001B[1;32m   2515\u001B[0m \u001B[38;5;28;01mwith\u001B[39;00m \u001B[38;5;28mself\u001B[39m\u001B[38;5;241m.\u001B[39mbuiltin_trap:\n\u001B[1;32m   2516\u001B[0m     args \u001B[38;5;241m=\u001B[39m (magic_arg_s, cell)\n\u001B[0;32m-> 2517\u001B[0m     result \u001B[38;5;241m=\u001B[39m \u001B[43mfn\u001B[49m\u001B[43m(\u001B[49m\u001B[38;5;241;43m*\u001B[39;49m\u001B[43margs\u001B[49m\u001B[43m,\u001B[49m\u001B[43m \u001B[49m\u001B[38;5;241;43m*\u001B[39;49m\u001B[38;5;241;43m*\u001B[39;49m\u001B[43mkwargs\u001B[49m\u001B[43m)\u001B[49m\n\u001B[1;32m   2519\u001B[0m \u001B[38;5;66;03m# The code below prevents the output from being displayed\u001B[39;00m\n\u001B[1;32m   2520\u001B[0m \u001B[38;5;66;03m# when using magics with decorator @output_can_be_silenced\u001B[39;00m\n\u001B[1;32m   2521\u001B[0m \u001B[38;5;66;03m# when the last Python token in the expression is a ';'.\u001B[39;00m\n\u001B[1;32m   2522\u001B[0m \u001B[38;5;28;01mif\u001B[39;00m \u001B[38;5;28mgetattr\u001B[39m(fn, magic\u001B[38;5;241m.\u001B[39mMAGIC_OUTPUT_CAN_BE_SILENCED, \u001B[38;5;28;01mFalse\u001B[39;00m):\n",
      "File \u001B[0;32m~/Library/Caches/pypoetry/virtualenvs/phenopackets-JmUWBwH2-py3.9/lib/python3.9/site-packages/IPython/core/magics/script.py:154\u001B[0m, in \u001B[0;36mScriptMagics._make_script_magic.<locals>.named_script_magic\u001B[0;34m(line, cell)\u001B[0m\n\u001B[1;32m    152\u001B[0m \u001B[38;5;28;01melse\u001B[39;00m:\n\u001B[1;32m    153\u001B[0m     line \u001B[38;5;241m=\u001B[39m script\n\u001B[0;32m--> 154\u001B[0m \u001B[38;5;28;01mreturn\u001B[39;00m \u001B[38;5;28;43mself\u001B[39;49m\u001B[38;5;241;43m.\u001B[39;49m\u001B[43mshebang\u001B[49m\u001B[43m(\u001B[49m\u001B[43mline\u001B[49m\u001B[43m,\u001B[49m\u001B[43m \u001B[49m\u001B[43mcell\u001B[49m\u001B[43m)\u001B[49m\n",
      "File \u001B[0;32m~/Library/Caches/pypoetry/virtualenvs/phenopackets-JmUWBwH2-py3.9/lib/python3.9/site-packages/IPython/core/magics/script.py:314\u001B[0m, in \u001B[0;36mScriptMagics.shebang\u001B[0;34m(self, line, cell)\u001B[0m\n\u001B[1;32m    309\u001B[0m \u001B[38;5;28;01mif\u001B[39;00m args\u001B[38;5;241m.\u001B[39mraise_error \u001B[38;5;129;01mand\u001B[39;00m p\u001B[38;5;241m.\u001B[39mreturncode \u001B[38;5;241m!=\u001B[39m \u001B[38;5;241m0\u001B[39m:\n\u001B[1;32m    310\u001B[0m     \u001B[38;5;66;03m# If we get here and p.returncode is still None, we must have\u001B[39;00m\n\u001B[1;32m    311\u001B[0m     \u001B[38;5;66;03m# killed it but not yet seen its return code. We don't wait for it,\u001B[39;00m\n\u001B[1;32m    312\u001B[0m     \u001B[38;5;66;03m# in case it's stuck in uninterruptible sleep. -9 = SIGKILL\u001B[39;00m\n\u001B[1;32m    313\u001B[0m     rc \u001B[38;5;241m=\u001B[39m p\u001B[38;5;241m.\u001B[39mreturncode \u001B[38;5;129;01mor\u001B[39;00m \u001B[38;5;241m-\u001B[39m\u001B[38;5;241m9\u001B[39m\n\u001B[0;32m--> 314\u001B[0m     \u001B[38;5;28;01mraise\u001B[39;00m CalledProcessError(rc, cell)\n",
      "\u001B[0;31mCalledProcessError\u001B[0m: Command 'b'linkml-validate -s ../../../src/phenopackets/schema/phenopackets.yaml  ../../../examples/retinoblastoma.json\\n'' returned non-zero exit status 1."
     ]
    }
   ],
   "source": [
    "%%bash\n",
    "linkml-validate -s ../../../src/phenopackets/schema/phenopackets.yaml  ../../../examples/retinoblastoma.json"
   ],
   "metadata": {
    "collapsed": false,
    "ExecuteTime": {
     "end_time": "2024-04-25T02:57:28.634530Z",
     "start_time": "2024-04-25T02:57:26.797236Z"
    }
   },
   "id": "adfc80051818ea56"
  },
  {
   "cell_type": "markdown",
   "source": [
    "In actual fact, this example is using strings when it should be using numbers\n",
    "\n",
    "__TODO__ fix this upstream"
   ],
   "metadata": {
    "collapsed": false
   },
   "id": "7a8bd49ed790a57a"
  }
 ],
 "metadata": {
  "kernelspec": {
   "display_name": "Python 3",
   "language": "python",
   "name": "python3"
  },
  "language_info": {
   "codemirror_mode": {
    "name": "ipython",
    "version": 2
   },
   "file_extension": ".py",
   "mimetype": "text/x-python",
   "name": "python",
   "nbconvert_exporter": "python",
   "pygments_lexer": "ipython2",
   "version": "2.7.6"
  }
 },
 "nbformat": 4,
 "nbformat_minor": 5
}
