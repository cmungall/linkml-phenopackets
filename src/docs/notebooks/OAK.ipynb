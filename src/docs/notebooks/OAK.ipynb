{
 "cells": [
  {
   "cell_type": "markdown",
   "id": "468d150f",
   "metadata": {},
   "source": [
    "# Ontology operations using OAK\n",
    "\n",
    "This demonstrates the `p3` (PhenoPacketPython) command line utility for interfacing with OAK to\n",
    "do ontology operations.\n",
    "\n",
    "First let's just see the operations:"
   ]
  },
  {
   "cell_type": "code",
   "execution_count": 1,
   "id": "35dafbcf",
   "metadata": {
    "ExecuteTime": {
     "end_time": "2024-04-25T02:51:05.214631Z",
     "start_time": "2024-04-25T02:51:02.422741Z"
    }
   },
   "outputs": [
    {
     "name": "stdout",
     "output_type": "stream",
     "text": [
      "Usage: p3 [OPTIONS] COMMAND [ARGS]...\n",
      "\n",
      "  Run the CLI.\n",
      "\n",
      "Options:\n",
      "  -v, --verbose\n",
      "  -q, --quiet TEXT\n",
      "  --help            Show this message and exit.\n",
      "\n",
      "Commands:\n",
      "  compare            Rewire all OntologyClass objects to update labels.\n",
      "  list-terms         Rewire all OntologyClass objects to update labels.\n",
      "  migrate-obsoletes  Rewire all OntologyClass objects that have an...\n",
      "  normalize-curies   Rewire all OntologyClass objects to update labels.\n",
      "  update-labels      Rewire all OntologyClass objects to update labels.\n",
      "  validate           Validate a collection of phenopackets.\n",
      "  viz                Rewire all OntologyClass objects to update labels.\n"
     ]
    }
   ],
   "source": [
    "%%bash\n",
    "p3 --help"
   ]
  },
  {
   "cell_type": "markdown",
   "id": "ae19d148",
   "metadata": {},
   "source": [
    "## List all terms used\n",
    "\n",
    "This iterates through a whole object showing all OntologyClass objects.\n",
    "\n",
    "(note: all commands accept any of YAML, JSON, or RDF)"
   ]
  },
  {
   "cell_type": "code",
   "execution_count": 2,
   "id": "27182259",
   "metadata": {
    "ExecuteTime": {
     "end_time": "2024-04-25T02:51:07.936277Z",
     "start_time": "2024-04-25T02:51:05.218491Z"
    }
   },
   "outputs": [
    {
     "name": "stdout",
     "output_type": "stream",
     "text": [
      "- id: MONDO:0005015\n",
      "  label: diabetes mellitus\n",
      "- id: MONDO:0004994\n",
      "  label: cardiomyopathy\n",
      "- id: MONDO:0100096\n",
      "  label: COVID-19\n",
      "- id: LOINC:26474-7\n",
      "  label: Lymphocytes [#/volume] in Blood\n",
      "- id: NCIT:C67245\n",
      "  label: Thousand Cells\n",
      "- id: LOINC:26474-7\n",
      "  label: Lymphocytes [#/volume] in Blood\n",
      "- id: NCIT:C67245\n",
      "  label: Thousand Cells\n",
      "- id: NCIT:C80473\n",
      "  label: Left Ventricular Assist Device\n",
      "- id: NCIT:C722\n",
      "  label: Oxygen\n",
      "- id: NCIT:C67388\n",
      "  label: Liter per Minute\n"
     ]
    }
   ],
   "source": [
    "%%bash\n",
    "p3 list-terms -O yaml ../../../examples/Phenopacket-covid.yaml | head -20"
   ]
  },
  {
   "cell_type": "markdown",
   "id": "890a6ea3",
   "metadata": {},
   "source": [
    "## Validating phenopackets using ontologies\n",
    "\n",
    "LinkML provides a generic and expressive validation framework encompassing:\n",
    "\n",
    "- *schema* checks (e.g. required fields, types)\n",
    "- *ontology* checks (e.g. terms are valid, not obsolete, belong to static or dynamic subsets)\n",
    "\n",
    "For this example, we will use a fake example with a bad label and an obsolete class.\n",
    "\n",
    "__THE PHENOPACKET HERE IS DELIBERATELY ERRONEOUS__\n",
    "\n",
    "We can check using `validate`:"
   ]
  },
  {
   "cell_type": "code",
   "execution_count": 3,
   "id": "55fa2519",
   "metadata": {
    "ExecuteTime": {
     "end_time": "2024-04-25T02:51:15.854434Z",
     "start_time": "2024-04-25T02:51:07.928904Z"
    }
   },
   "outputs": [
    {
     "name": "stdout",
     "output_type": "stream",
     "text": [
      "## Validating ../../../tests/input/Phenopacket-migrate-example.yaml\n",
      "## LinkML Validation Messages:\n",
      "[ERROR] [0]\n",
      "## Ontology Validation Messages: ('56844-4', 'CURIE')\n"
     ]
    },
    {
     "name": "stderr",
     "output_type": "stream",
     "text": [
      "ERROR:phenopackets.utilities.ontology_utilities:OntologyClass.id must be a CURIE: 56844-4\n"
     ]
    },
    {
     "name": "stdout",
     "output_type": "stream",
     "text": [
      "## Ontology Validation Messages: ('56844-4', 'CURIE')\n"
     ]
    },
    {
     "name": "stderr",
     "output_type": "stream",
     "text": [
      "ERROR:phenopackets.utilities.ontology_utilities:OntologyClass.id must be a CURIE: 56844-4\n"
     ]
    },
    {
     "name": "stdout",
     "output_type": "stream",
     "text": [
      "## Ontology Validation Messages: ('HP:0100637', 'obsolete')\n",
      "Errors: 4\n"
     ]
    },
    {
     "name": "stderr",
     "output_type": "stream",
     "text": [
      "                                                  \r"
     ]
    },
    {
     "ename": "CalledProcessError",
     "evalue": "Command 'b'p3 validate ../../../tests/input/Phenopacket-migrate-example.yaml\\n'' returned non-zero exit status 1.",
     "output_type": "error",
     "traceback": [
      "\u001B[0;31m---------------------------------------------------------------------------\u001B[0m",
      "\u001B[0;31mCalledProcessError\u001B[0m                        Traceback (most recent call last)",
      "Cell \u001B[0;32mIn[3], line 1\u001B[0m\n\u001B[0;32m----> 1\u001B[0m \u001B[43mget_ipython\u001B[49m\u001B[43m(\u001B[49m\u001B[43m)\u001B[49m\u001B[38;5;241;43m.\u001B[39;49m\u001B[43mrun_cell_magic\u001B[49m\u001B[43m(\u001B[49m\u001B[38;5;124;43m'\u001B[39;49m\u001B[38;5;124;43mbash\u001B[39;49m\u001B[38;5;124;43m'\u001B[39;49m\u001B[43m,\u001B[49m\u001B[43m \u001B[49m\u001B[38;5;124;43m'\u001B[39;49m\u001B[38;5;124;43m'\u001B[39;49m\u001B[43m,\u001B[49m\u001B[43m \u001B[49m\u001B[38;5;124;43m'\u001B[39;49m\u001B[38;5;124;43mp3 validate ../../../tests/input/Phenopacket-migrate-example.yaml\u001B[39;49m\u001B[38;5;130;43;01m\\n\u001B[39;49;00m\u001B[38;5;124;43m'\u001B[39;49m\u001B[43m)\u001B[49m\n",
      "File \u001B[0;32m~/Library/Caches/pypoetry/virtualenvs/phenopackets-JmUWBwH2-py3.9/lib/python3.9/site-packages/IPython/core/interactiveshell.py:2517\u001B[0m, in \u001B[0;36mInteractiveShell.run_cell_magic\u001B[0;34m(self, magic_name, line, cell)\u001B[0m\n\u001B[1;32m   2515\u001B[0m \u001B[38;5;28;01mwith\u001B[39;00m \u001B[38;5;28mself\u001B[39m\u001B[38;5;241m.\u001B[39mbuiltin_trap:\n\u001B[1;32m   2516\u001B[0m     args \u001B[38;5;241m=\u001B[39m (magic_arg_s, cell)\n\u001B[0;32m-> 2517\u001B[0m     result \u001B[38;5;241m=\u001B[39m \u001B[43mfn\u001B[49m\u001B[43m(\u001B[49m\u001B[38;5;241;43m*\u001B[39;49m\u001B[43margs\u001B[49m\u001B[43m,\u001B[49m\u001B[43m \u001B[49m\u001B[38;5;241;43m*\u001B[39;49m\u001B[38;5;241;43m*\u001B[39;49m\u001B[43mkwargs\u001B[49m\u001B[43m)\u001B[49m\n\u001B[1;32m   2519\u001B[0m \u001B[38;5;66;03m# The code below prevents the output from being displayed\u001B[39;00m\n\u001B[1;32m   2520\u001B[0m \u001B[38;5;66;03m# when using magics with decorator @output_can_be_silenced\u001B[39;00m\n\u001B[1;32m   2521\u001B[0m \u001B[38;5;66;03m# when the last Python token in the expression is a ';'.\u001B[39;00m\n\u001B[1;32m   2522\u001B[0m \u001B[38;5;28;01mif\u001B[39;00m \u001B[38;5;28mgetattr\u001B[39m(fn, magic\u001B[38;5;241m.\u001B[39mMAGIC_OUTPUT_CAN_BE_SILENCED, \u001B[38;5;28;01mFalse\u001B[39;00m):\n",
      "File \u001B[0;32m~/Library/Caches/pypoetry/virtualenvs/phenopackets-JmUWBwH2-py3.9/lib/python3.9/site-packages/IPython/core/magics/script.py:154\u001B[0m, in \u001B[0;36mScriptMagics._make_script_magic.<locals>.named_script_magic\u001B[0;34m(line, cell)\u001B[0m\n\u001B[1;32m    152\u001B[0m \u001B[38;5;28;01melse\u001B[39;00m:\n\u001B[1;32m    153\u001B[0m     line \u001B[38;5;241m=\u001B[39m script\n\u001B[0;32m--> 154\u001B[0m \u001B[38;5;28;01mreturn\u001B[39;00m \u001B[38;5;28;43mself\u001B[39;49m\u001B[38;5;241;43m.\u001B[39;49m\u001B[43mshebang\u001B[49m\u001B[43m(\u001B[49m\u001B[43mline\u001B[49m\u001B[43m,\u001B[49m\u001B[43m \u001B[49m\u001B[43mcell\u001B[49m\u001B[43m)\u001B[49m\n",
      "File \u001B[0;32m~/Library/Caches/pypoetry/virtualenvs/phenopackets-JmUWBwH2-py3.9/lib/python3.9/site-packages/IPython/core/magics/script.py:314\u001B[0m, in \u001B[0;36mScriptMagics.shebang\u001B[0;34m(self, line, cell)\u001B[0m\n\u001B[1;32m    309\u001B[0m \u001B[38;5;28;01mif\u001B[39;00m args\u001B[38;5;241m.\u001B[39mraise_error \u001B[38;5;129;01mand\u001B[39;00m p\u001B[38;5;241m.\u001B[39mreturncode \u001B[38;5;241m!=\u001B[39m \u001B[38;5;241m0\u001B[39m:\n\u001B[1;32m    310\u001B[0m     \u001B[38;5;66;03m# If we get here and p.returncode is still None, we must have\u001B[39;00m\n\u001B[1;32m    311\u001B[0m     \u001B[38;5;66;03m# killed it but not yet seen its return code. We don't wait for it,\u001B[39;00m\n\u001B[1;32m    312\u001B[0m     \u001B[38;5;66;03m# in case it's stuck in uninterruptible sleep. -9 = SIGKILL\u001B[39;00m\n\u001B[1;32m    313\u001B[0m     rc \u001B[38;5;241m=\u001B[39m p\u001B[38;5;241m.\u001B[39mreturncode \u001B[38;5;129;01mor\u001B[39;00m \u001B[38;5;241m-\u001B[39m\u001B[38;5;241m9\u001B[39m\n\u001B[0;32m--> 314\u001B[0m     \u001B[38;5;28;01mraise\u001B[39;00m CalledProcessError(rc, cell)\n",
      "\u001B[0;31mCalledProcessError\u001B[0m: Command 'b'p3 validate ../../../tests/input/Phenopacket-migrate-example.yaml\\n'' returned non-zero exit status 1."
     ]
    }
   ],
   "source": [
    "%%bash\n",
    "p3 validate ../../../tests/input/Phenopacket-migrate-example.yaml"
   ]
  },
  {
   "cell_type": "markdown",
   "source": [
    "This returns with error status due to the data not validating.\n",
    "\n",
    "**TODO** make this output friendlier"
   ],
   "metadata": {
    "collapsed": false
   },
   "id": "7de20dd8dfd75db6"
  },
  {
   "cell_type": "markdown",
   "source": [
    "## Repairing phenopackets using ontologies\n",
    "\n",
    "Ontologies are not static:\n",
    "\n",
    "- terms may become obsolete; in some cases a replacement will be indicated\n",
    "- labels may change\n",
    "\n",
    "In the first case, the `migrate-obsoletes` command will auto-replace obsoletes that have a replaced-by\n",
    "\n",
    "In the second, `update-labels` will modify any labels.\n",
    "\n",
    "For these commands you can either pass in an ontology object using `--ontology`, **OR** let OAK figure\n",
    "out how to access the ontology. The default method is sqlite. There may be an initial lag.\n",
    "\n",
    "Let's update the  labels using the `update-labels` command:"
   ],
   "metadata": {
    "collapsed": false
   },
   "id": "7d1d2aad8fdecd93"
  },
  {
   "cell_type": "markdown",
   "id": "1fae1f09",
   "metadata": {},
   "source": []
  },
  {
   "cell_type": "code",
   "execution_count": null,
   "id": "07af19d8",
   "metadata": {
    "ExecuteTime": {
     "end_time": "2024-04-25T02:51:15.858028Z",
     "start_time": "2024-04-25T02:51:15.857590Z"
    }
   },
   "outputs": [],
   "source": [
    "!p3 update-labels ../../../tests/input/Phenopacket-migrate-example.yaml -o /tmp/fixed.yaml"
   ]
  },
  {
   "cell_type": "markdown",
   "id": "8f6985ba",
   "metadata": {},
   "source": [
    "We can see the changes that were made here:"
   ]
  },
  {
   "cell_type": "code",
   "execution_count": null,
   "id": "57a135c5",
   "metadata": {
    "ExecuteTime": {
     "start_time": "2024-04-25T02:51:15.859354Z"
    }
   },
   "outputs": [],
   "source": [
    "!diff -u ../../../tests/input/Phenopacket-migrate-example.yaml /tmp/fixed.yaml"
   ]
  },
  {
   "cell_type": "markdown",
   "id": "5697ce31",
   "metadata": {},
   "source": [
    "Note in the above the fake label for HP:0100637 was replaced by the current label *obsolete Neoplasia of the nose* but this indicates another issue - a class has been obsoleted since the phenopacket was made!\n",
    "\n",
    "We can also apply the `migrate-obsoletes` command that will use term-replaced-by annotations:"
   ]
  },
  {
   "cell_type": "code",
   "execution_count": null,
   "id": "e46f76f5",
   "metadata": {
    "ExecuteTime": {
     "start_time": "2024-04-25T02:51:15.862378Z"
    }
   },
   "outputs": [],
   "source": [
    "!p3 migrate-obsoletes ../../../tests/input/Phenopacket-migrate-example.yaml -o /tmp/fixed.yaml"
   ]
  },
  {
   "cell_type": "markdown",
   "source": [
    "Let's see the changes that were made here:"
   ],
   "metadata": {
    "collapsed": false
   },
   "id": "902a80038179652f"
  },
  {
   "cell_type": "code",
   "execution_count": null,
   "id": "ec411982",
   "metadata": {
    "ExecuteTime": {
     "start_time": "2024-04-25T02:51:15.864418Z"
    }
   },
   "outputs": [],
   "source": [
    "!diff -u ../../../tests/input/Phenopacket-migrate-example.yaml /tmp/fixed.yaml"
   ]
  },
  {
   "cell_type": "markdown",
   "id": "5ac03318",
   "metadata": {},
   "source": [
    "## Visualizing Ontology terms\n",
    "\n",
    "We can use OAK viz to visualize all terms used in a phenopacket (typically phenotypes or disease but could be any)"
   ]
  },
  {
   "cell_type": "code",
   "execution_count": null,
   "id": "83698776",
   "metadata": {
    "ExecuteTime": {
     "start_time": "2024-04-25T02:51:15.865964Z"
    }
   },
   "outputs": [],
   "source": [
    "!p3 viz --ontology sqlite:obo:mondo ../examples/Phenopacket-covid.yaml -o output/covid.png"
   ]
  },
  {
   "cell_type": "markdown",
   "id": "f57671f1",
   "metadata": {},
   "source": [
    "![img](output/covid.png)"
   ]
  },
  {
   "cell_type": "code",
   "execution_count": null,
   "id": "ac43895c",
   "metadata": {
    "ExecuteTime": {
     "start_time": "2024-04-25T02:51:15.867519Z"
    }
   },
   "outputs": [],
   "source": []
  }
 ],
 "metadata": {
  "kernelspec": {
   "display_name": "Python 3 (ipykernel)",
   "language": "python",
   "name": "python3"
  },
  "language_info": {
   "codemirror_mode": {
    "name": "ipython",
    "version": 3
   },
   "file_extension": ".py",
   "mimetype": "text/x-python",
   "name": "python",
   "nbconvert_exporter": "python",
   "pygments_lexer": "ipython3",
   "version": "3.9.5"
  }
 },
 "nbformat": 4,
 "nbformat_minor": 5
}
