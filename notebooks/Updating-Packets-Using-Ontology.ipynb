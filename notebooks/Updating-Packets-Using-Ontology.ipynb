{
 "cells": [
  {
   "cell_type": "markdown",
   "id": "468d150f",
   "metadata": {},
   "source": [
    "# Command Line Ontology Examples\n",
    "\n",
    "This demonstrates the `p3` (PhenoPacketPython) command line utility for interfacing with OAK to\n",
    "do ontology operations.\n",
    "\n",
    "First let's just see the operations:"
   ]
  },
  {
   "cell_type": "code",
   "execution_count": 5,
   "id": "35dafbcf",
   "metadata": {},
   "outputs": [
    {
     "name": "stdout",
     "output_type": "stream",
     "text": [
      "Usage: p3 [OPTIONS] COMMAND [ARGS]...\r\n",
      "\r\n",
      "  Run the CLI.\r\n",
      "\r\n",
      "Options:\r\n",
      "  -v, --verbose\r\n",
      "  -q, --quiet TEXT\r\n",
      "  --help            Show this message and exit.\r\n",
      "\r\n",
      "Commands:\r\n",
      "  compare            Rewire all OntologyClass objects to update labels.\r\n",
      "  list-terms         Rewire all OntologyClass objects to update labels.\r\n",
      "  migrate-obsoletes  Rewire all OntologyClass objects that have an...\r\n",
      "  normalize-curies   Rewire all OntologyClass objects to update labels.\r\n",
      "  update-labels      Rewire all OntologyClass objects to update labels.\r\n",
      "  validate           Validate a collection of phenopackets.\r\n",
      "  viz                Rewire all OntologyClass objects to update labels.\r\n"
     ]
    }
   ],
   "source": [
    "!p3 --help"
   ]
  },
  {
   "cell_type": "markdown",
   "id": "ae19d148",
   "metadata": {},
   "source": [
    "## List all terms\n",
    "\n",
    "This iterates through a whole object showing all OntologyClass objects.\n",
    "\n",
    "(note: all commands accept any of YAML, JSON, or RDF)"
   ]
  },
  {
   "cell_type": "code",
   "execution_count": 6,
   "id": "27182259",
   "metadata": {},
   "outputs": [
    {
     "name": "stdout",
     "output_type": "stream",
     "text": [
      "- id: MONDO:0005015\r\n",
      "  label: diabetes mellitus\r\n",
      "- id: MONDO:0004994\r\n",
      "  label: cardiomyopathy\r\n",
      "- id: MONDO:0100096\r\n",
      "  label: COVID-19\r\n",
      "- id: LOINC:26474-7\r\n",
      "  label: Lymphocytes [#/volume] in Blood\r\n",
      "- id: NCIT:C67245\r\n",
      "  label: Thousand Cells\r\n",
      "- id: LOINC:26474-7\r\n",
      "  label: Lymphocytes [#/volume] in Blood\r\n",
      "- id: NCIT:C67245\r\n",
      "  label: Thousand Cells\r\n",
      "- id: NCIT:C80473\r\n",
      "  label: Left Ventricular Assist Device\r\n",
      "- id: NCIT:C722\r\n",
      "  label: Oxygen\r\n",
      "- id: NCIT:C67388\r\n",
      "  label: Liter per Minute\r\n"
     ]
    }
   ],
   "source": [
    "!p3 list-terms -O yaml ../examples/Phenopacket-covid.yaml | head -20"
   ]
  },
  {
   "cell_type": "markdown",
   "id": "890a6ea3",
   "metadata": {},
   "source": [
    "## Repair Term Objects\n",
    "\n",
    "Ontologies are not static:\n",
    "\n",
    "- terms may become obsolete; in some cases a replacement will be indicated\n",
    "- labels may change\n",
    "\n",
    "In the first case, the `migrate-obsoletes` command will auto-replace obsoletes that have a replaced-by\n",
    "\n",
    "In the second, `update-labels` will modify any labels.\n",
    "\n",
    "For these commands you can either pass in an ontology object using `--ontology`, **OR** let OAK figure\n",
    "out how to access the ontology. The default method is sqlite. There may be an initial lag.\n",
    "\n",
    "For this example, we will use a fake example with a bad label and an obsolete class.\n",
    "\n",
    "To demonstrate it is bad:"
   ]
  },
  {
   "cell_type": "code",
   "execution_count": 7,
   "id": "55fa2519",
   "metadata": {},
   "outputs": [
    {
     "name": "stdout",
     "output_type": "stream",
     "text": [
      "## Validating ../tests/input/Phenopacket-migrate-example.yaml\n",
      "WARNING:phenopackets.utilities.ontology_utilities:Could not get handle for LOINC:33728-7 using sqlite:obo:loinc: HTTP Error 404: Not Found\n",
      "WARNING:phenopackets.utilities.ontology_utilities:Could not get handle for LOINC:LA24739-7 using sqlite:obo:loinc: HTTP Error 404: Not Found\n",
      "WARNING:phenopackets.utilities.ontology_utilities:Could not get handle for LOINC:79893-4 using sqlite:obo:loinc: HTTP Error 404: Not Found\n",
      "ERROR:phenopackets.utilities.ontology_utilities:OntologyClass.id must be a CURIE: 56844-4\n",
      "## ERROR: ('56844-4', 'CURIE')\n",
      "ERROR:phenopackets.utilities.ontology_utilities:OntologyClass.id must be a CURIE: 56844-4\n",
      "WARNING:phenopackets.utilities.ontology_utilities:Could not get handle for LOINC:79892-6 using sqlite:obo:loinc: HTTP Error 404: Not Found\n",
      "ERROR:phenopackets.utilities.ontology_utilities:OntologyClass.id must be a CURIE: 56844-4\n",
      "## ERROR: ('56844-4', 'CURIE')\n",
      "ERROR:phenopackets.utilities.ontology_utilities:OntologyClass.id must be a CURIE: 56844-4\n",
      "WARNING:phenopackets.utilities.ontology_utilities:Could not get handle for DrugCentral:1678 using sqlite:obo:drugcentral: HTTP Error 404: Not Found\n",
      "## ERROR: ('HP:0100637', 'obsolete')\n",
      "Errors: 3\n",
      "Traceback (most recent call last):\n",
      "  File \"/Users/cjm/Library/Caches/pypoetry/virtualenvs/phenopackets-JmUWBwH2-py3.9/bin/p3\", line 5, in <module>\n",
      "    main()\n",
      "  File \"/Users/cjm/Library/Caches/pypoetry/virtualenvs/phenopackets-JmUWBwH2-py3.9/lib/python3.9/site-packages/click/core.py\", line 1130, in __call__\n",
      "    return self.main(*args, **kwargs)\n",
      "  File \"/Users/cjm/Library/Caches/pypoetry/virtualenvs/phenopackets-JmUWBwH2-py3.9/lib/python3.9/site-packages/click/core.py\", line 1055, in main\n",
      "    rv = self.invoke(ctx)\n",
      "  File \"/Users/cjm/Library/Caches/pypoetry/virtualenvs/phenopackets-JmUWBwH2-py3.9/lib/python3.9/site-packages/click/core.py\", line 1657, in invoke\n",
      "    return _process_result(sub_ctx.command.invoke(sub_ctx))\n",
      "  File \"/Users/cjm/Library/Caches/pypoetry/virtualenvs/phenopackets-JmUWBwH2-py3.9/lib/python3.9/site-packages/click/core.py\", line 1404, in invoke\n",
      "    return ctx.invoke(self.callback, **ctx.params)\n",
      "  File \"/Users/cjm/Library/Caches/pypoetry/virtualenvs/phenopackets-JmUWBwH2-py3.9/lib/python3.9/site-packages/click/core.py\", line 760, in invoke\n",
      "    return __callback(*args, **kwargs)\n",
      "  File \"/Users/cjm/repos/linkml-phenopackets/src/phenopackets/cli/cli.py\", line 188, in validate\n",
      "    raise ValueError(f\"Validation failed: {errs}\")\n",
      "ValueError: Validation failed: [('../tests/input/Phenopacket-migrate-example.yaml', ('56844-4', 'CURIE')), ('../tests/input/Phenopacket-migrate-example.yaml', ('56844-4', 'CURIE')), ('../tests/input/Phenopacket-migrate-example.yaml', ('HP:0100637', 'obsolete'))]\n"
     ]
    }
   ],
   "source": [
    "!p3 validate ../tests/input/Phenopacket-migrate-example.yaml"
   ]
  },
  {
   "cell_type": "markdown",
   "id": "1fae1f09",
   "metadata": {},
   "source": [
    "**NOTE** currently OAK doesn't know how to access some ontologies/vocabularies by default, this will be fixed.\n",
    "\n",
    "**TODO** make this output friendlier"
   ]
  },
  {
   "cell_type": "code",
   "execution_count": 9,
   "id": "07af19d8",
   "metadata": {},
   "outputs": [
    {
     "name": "stdout",
     "output_type": "stream",
     "text": [
      "WARNING:phenopackets.utilities.ontology_utilities:Could not get handle for LOINC:33728-7 using sqlite:obo:loinc: HTTP Error 404: Not Found\n",
      "WARNING:phenopackets.utilities.ontology_utilities:Could not get handle for LOINC:LA24739-7 using sqlite:obo:loinc: HTTP Error 404: Not Found\n",
      "WARNING:phenopackets.utilities.ontology_utilities:Could not get handle for LOINC:79893-4 using sqlite:obo:loinc: HTTP Error 404: Not Found\n",
      "ERROR:phenopackets.utilities.ontology_utilities:OntologyClass.id must be a CURIE: 56844-4\n",
      "WARNING:phenopackets.utilities.ontology_utilities:Could not get handle for LOINC:79892-6 using sqlite:obo:loinc: HTTP Error 404: Not Found\n",
      "ERROR:phenopackets.utilities.ontology_utilities:OntologyClass.id must be a CURIE: 56844-4\n",
      "WARNING:phenopackets.utilities.ontology_utilities:Could not get handle for DrugCentral:1678 using sqlite:obo:drugcentral: HTTP Error 404: Not Found\n",
      "## Num results: 2\n",
      "## RESULT: ('LABEL TO BE REPLACED', 'Retinal detachment')\n",
      "## RESULT: ('This is not an actual phenotype of the disease - present to test obsoletion replacement', 'obsolete Neoplasia of the nose')\n"
     ]
    }
   ],
   "source": [
    "!p3 update-labels ../tests/input/Phenopacket-migrate-example.yaml -o /tmp/fixed.yaml"
   ]
  },
  {
   "cell_type": "markdown",
   "id": "8f6985ba",
   "metadata": {},
   "source": [
    "We can see the changes that were made here:"
   ]
  },
  {
   "cell_type": "code",
   "execution_count": 12,
   "id": "57a135c5",
   "metadata": {},
   "outputs": [
    {
     "name": "stdout",
     "output_type": "stream",
     "text": [
      "--- ../tests/input/Phenopacket-migrate-example.yaml\t2023-01-18 09:45:47.000000000 -0800\r\n",
      "+++ /tmp/fixed.yaml\t2023-01-18 18:15:26.000000000 -0800\r\n",
      "@@ -303,10 +303,10 @@\r\n",
      "       iso8601duration: P6M\r\n",
      "   type:\r\n",
      "     id: HP:0000541\r\n",
      "-    label: LABEL TO BE REPLACED ## Retinal detachment\r\n",
      "+    label: Retinal detachment\r\n",
      " - type:\r\n",
      "     id: HP:0100637\r\n",
      "-    label: This is not an actual phenotype of the disease - present to test obsoletion replacement\r\n",
      "+    label: obsolete Neoplasia of the nose\r\n",
      " subject:\r\n",
      "   id: proband A\r\n",
      "   karyotypicSex: XX\r\n"
     ]
    }
   ],
   "source": [
    "!diff -u ../tests/input/Phenopacket-migrate-example.yaml /tmp/fixed.yaml"
   ]
  },
  {
   "cell_type": "markdown",
   "id": "5697ce31",
   "metadata": {},
   "source": [
    "Note in the above the fake label for HP:0100637 was replaced by the current label *obsolete Neoplasia of the nose* but this indicates another issue - a class has been obsoleted since the phenopacket was made!\n",
    "\n",
    "We can also apply the `migrate-obsoletes` command that will use term-replaced-by annotations:"
   ]
  },
  {
   "cell_type": "code",
   "execution_count": 13,
   "id": "e46f76f5",
   "metadata": {},
   "outputs": [
    {
     "name": "stdout",
     "output_type": "stream",
     "text": [
      "WARNING:phenopackets.utilities.ontology_utilities:Could not get handle for LOINC:33728-7 using sqlite:obo:loinc: HTTP Error 404: Not Found\n",
      "WARNING:phenopackets.utilities.ontology_utilities:Could not get handle for LOINC:LA24739-7 using sqlite:obo:loinc: HTTP Error 404: Not Found\n",
      "WARNING:phenopackets.utilities.ontology_utilities:Could not get handle for LOINC:79893-4 using sqlite:obo:loinc: HTTP Error 404: Not Found\n",
      "ERROR:phenopackets.utilities.ontology_utilities:OntologyClass.id must be a CURIE: 56844-4\n",
      "WARNING:phenopackets.utilities.ontology_utilities:Could not get handle for LOINC:79892-6 using sqlite:obo:loinc: HTTP Error 404: Not Found\n",
      "ERROR:phenopackets.utilities.ontology_utilities:OntologyClass.id must be a CURIE: 56844-4\n",
      "WARNING:phenopackets.utilities.ontology_utilities:Could not get handle for DrugCentral:1678 using sqlite:obo:drugcentral: HTTP Error 404: Not Found\n",
      "## Num results: 1\n",
      "## RESULT: ('HP:0100637', 'HP:0012720')\n"
     ]
    }
   ],
   "source": [
    "!p3 migrate-obsoletes ../tests/input/Phenopacket-migrate-example.yaml -o /tmp/fixed.yaml"
   ]
  },
  {
   "cell_type": "code",
   "execution_count": 14,
   "id": "ec411982",
   "metadata": {},
   "outputs": [
    {
     "name": "stdout",
     "output_type": "stream",
     "text": [
      "--- ../tests/input/Phenopacket-migrate-example.yaml\t2023-01-18 09:45:47.000000000 -0800\r\n",
      "+++ /tmp/fixed.yaml\t2023-01-18 18:16:51.000000000 -0800\r\n",
      "@@ -303,10 +303,10 @@\r\n",
      "       iso8601duration: P6M\r\n",
      "   type:\r\n",
      "     id: HP:0000541\r\n",
      "-    label: LABEL TO BE REPLACED ## Retinal detachment\r\n",
      "+    label: LABEL TO BE REPLACED\r\n",
      " - type:\r\n",
      "-    id: HP:0100637\r\n",
      "-    label: This is not an actual phenotype of the disease - present to test obsoletion replacement\r\n",
      "+    id: HP:0012720\r\n",
      "+    label: Neoplasm of the nose\r\n",
      " subject:\r\n",
      "   id: proband A\r\n",
      "   karyotypicSex: XX\r\n"
     ]
    }
   ],
   "source": [
    "!diff -u ../tests/input/Phenopacket-migrate-example.yaml /tmp/fixed.yaml"
   ]
  },
  {
   "cell_type": "markdown",
   "id": "5ac03318",
   "metadata": {},
   "source": [
    "## Visualizing Ontology terms\n",
    "\n",
    "We can use OAK viz to visualize all terms (typically phenotypes or disease but could be any)"
   ]
  },
  {
   "cell_type": "code",
   "execution_count": 16,
   "id": "83698776",
   "metadata": {},
   "outputs": [],
   "source": [
    "!p3 viz --ontology sqlite:obo:mondo ../examples/Phenopacket-covid.yaml -o output/covid.png"
   ]
  },
  {
   "cell_type": "markdown",
   "id": "f57671f1",
   "metadata": {},
   "source": [
    "![img](output/covid.png)"
   ]
  },
  {
   "cell_type": "code",
   "execution_count": null,
   "id": "ac43895c",
   "metadata": {},
   "outputs": [],
   "source": []
  }
 ],
 "metadata": {
  "kernelspec": {
   "display_name": "Python 3 (ipykernel)",
   "language": "python",
   "name": "python3"
  },
  "language_info": {
   "codemirror_mode": {
    "name": "ipython",
    "version": 3
   },
   "file_extension": ".py",
   "mimetype": "text/x-python",
   "name": "python",
   "nbconvert_exporter": "python",
   "pygments_lexer": "ipython3",
   "version": "3.9.5"
  }
 },
 "nbformat": 4,
 "nbformat_minor": 5
}
